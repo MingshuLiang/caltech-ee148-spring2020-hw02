{
 "cells": [
  {
   "cell_type": "code",
   "execution_count": 1,
   "metadata": {},
   "outputs": [],
   "source": [
    "import numpy as np\n",
    "import os\n",
    "import json"
   ]
  },
  {
   "cell_type": "code",
   "execution_count": 2,
   "metadata": {},
   "outputs": [],
   "source": [
    "np.random.seed(2020) # to ensure you always get the same train/test split\n",
    "\n",
    "data_path = 'data/RedLights2011_Medium'\n",
    "gts_path = 'data/hw02_annotations'\n",
    "split_path = 'data/hw02_splits'\n",
    "preds_path = 'data/hw02_preds'\n",
    "#os.makedirs(preds_path, exist_ok=True) # create directory if needed\n",
    "\n",
    "split_test = True # set to True and run when annotations are available\n",
    "\n",
    "train_frac = 0.85"
   ]
  },
  {
   "cell_type": "code",
   "execution_count": 3,
   "metadata": {},
   "outputs": [],
   "source": [
    "# get sorted list of files:\n",
    "file_names = sorted(os.listdir(data_path))\n",
    "\n",
    "# remove any non-JPEG files:\n",
    "file_names = [f for f in file_names if '.jpg' in f]\n",
    "\n",
    "# split file names into train and test\n",
    "file_names_train = []\n",
    "file_names_test = []"
   ]
  },
  {
   "cell_type": "code",
   "execution_count": 4,
   "metadata": {},
   "outputs": [],
   "source": [
    "train_num = round(train_frac*len(file_names))\n",
    "np.random.shuffle(file_names)\n",
    "file_names_train = file_names[0:train_num]\n",
    "file_names_test = file_names[train_num:]"
   ]
  },
  {
   "cell_type": "code",
   "execution_count": 5,
   "metadata": {},
   "outputs": [],
   "source": [
    "assert (len(file_names_train) + len(file_names_test)) == len(file_names)\n",
    "assert len(np.intersect1d(file_names_train,file_names_test)) == 0\n",
    "\n",
    "np.save(os.path.join(split_path,'file_names_train.npy'),file_names_train)\n",
    "np.save(os.path.join(split_path,'file_names_test.npy'),file_names_test)"
   ]
  },
  {
   "cell_type": "code",
   "execution_count": 6,
   "metadata": {},
   "outputs": [],
   "source": [
    "#np.load(split_path+'/file_names_train.npy')"
   ]
  },
  {
   "cell_type": "code",
   "execution_count": 8,
   "metadata": {},
   "outputs": [],
   "source": [
    "if split_test:\n",
    "    with open(os.path.join(gts_path, 'formatted_annotations_mturk.json'),'r') as f:\n",
    "        gts = json.load(f)\n",
    "    \n",
    "    # Use file_names_train and file_names_test to apply the split to the\n",
    "    # annotations\n",
    "    gts_train = {}\n",
    "    gts_test = {}\n",
    "    \n",
    "    for train_name in file_names_train:\n",
    "        gts_train[train_name] = gts[train_name]\n",
    "\n",
    "    for test_name in file_names_test:\n",
    "        gts_test[test_name] = gts[test_name]\n",
    "    \n",
    "    with open(os.path.join(gts_path, 'annotations_mturk_train.json'),'w') as f:\n",
    "        json.dump(gts_train,f)\n",
    "    \n",
    "    with open(os.path.join(gts_path, 'annotations_mturk_test.json'),'w') as f:\n",
    "        json.dump(gts_test,f)"
   ]
  },
  {
   "cell_type": "code",
   "execution_count": null,
   "metadata": {},
   "outputs": [],
   "source": []
  }
 ],
 "metadata": {
  "kernelspec": {
   "display_name": "Python 3",
   "language": "python",
   "name": "python3"
  },
  "language_info": {
   "codemirror_mode": {
    "name": "ipython",
    "version": 3
   },
   "file_extension": ".py",
   "mimetype": "text/x-python",
   "name": "python",
   "nbconvert_exporter": "python",
   "pygments_lexer": "ipython3",
   "version": "3.7.4"
  },
  "latex_envs": {
   "LaTeX_envs_menu_present": true,
   "autoclose": false,
   "autocomplete": true,
   "bibliofile": "biblio.bib",
   "cite_by": "apalike",
   "current_citInitial": 1,
   "eqLabelWithNumbers": true,
   "eqNumInitial": 1,
   "hotkeys": {
    "equation": "Ctrl-E",
    "itemize": "Ctrl-I"
   },
   "labels_anchors": false,
   "latex_user_defs": false,
   "report_style_numbering": false,
   "user_envs_cfg": false
  }
 },
 "nbformat": 4,
 "nbformat_minor": 4
}
